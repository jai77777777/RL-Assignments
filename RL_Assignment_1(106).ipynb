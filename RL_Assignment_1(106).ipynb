{
  "nbformat": 4,
  "nbformat_minor": 0,
  "metadata": {
    "colab": {
      "provenance": []
    },
    "kernelspec": {
      "name": "python3",
      "display_name": "Python 3"
    },
    "language_info": {
      "name": "python"
    }
  },
  "cells": [
    {
      "cell_type": "code",
      "source": [],
      "metadata": {
        "id": "Nk6rTXwpv-E1"
      },
      "execution_count": null,
      "outputs": []
    },
    {
      "cell_type": "markdown",
      "source": [
        "TIC TAC TOE"
      ],
      "metadata": {
        "id": "YeHegG5-v-97"
      }
    },
    {
      "cell_type": "code",
      "source": [
        "class TicTacToe:\n",
        "    def __init__(self):\n",
        "        self.board = [' ' for _ in range(9)]\n",
        "        self.current_player = 'X'\n",
        "\n",
        "    def display_board(self):\n",
        "        print(\"\\n\")\n",
        "        for row in range(3):\n",
        "            print(\" | \".join(self.board[row * 3:(row + 1) * 3]))\n",
        "            if row < 2:\n",
        "                print(\"-\" * 9)\n",
        "        print(\"\\n\")\n",
        "\n",
        "    def make_move(self, position):\n",
        "        if self.board[position] == ' ':\n",
        "            self.board[position] = self.current_player\n",
        "            if self.check_winner():\n",
        "                print(f\"Player {self.current_player} wins!\")\n",
        "                return True\n",
        "            elif ' ' not in self.board:\n",
        "                print(\"It's a draw!\")\n",
        "                return True\n",
        "            else:\n",
        "                self.current_player = 'O' if self.current_player == 'X' else 'X'\n",
        "                return False\n",
        "        else:\n",
        "            print(\"Invalid move. Try again.\")\n",
        "            return False\n",
        "\n",
        "    def check_winner(self):\n",
        "        winning_combinations = [\n",
        "            [0, 1, 2], [3, 4, 5], [6, 7, 8],\n",
        "            [0, 3, 6], [1, 4, 7], [2, 5, 8],\n",
        "            [0, 4, 8], [2, 4, 6]\n",
        "        ]\n",
        "        for combo in winning_combinations:\n",
        "            if self.board[combo[0]] == self.board[combo[1]] == self.board[combo[2]] != ' ':\n",
        "                return True\n",
        "        return False\n",
        "\n",
        "    def reset_game(self):\n",
        "        self.board = [' ' for _ in range(9)]\n",
        "        self.current_player = 'X'\n",
        "\n",
        "\n",
        "if __name__ == \"__main__\":\n",
        "    game = TicTacToe()\n",
        "    game.display_board()\n",
        "    while True:\n",
        "        try:\n",
        "            position = int(input(f\"Player {game.current_player}, enter your move (0-8): \"))\n",
        "            if position < 0 or position > 8:\n",
        "                print(\"Position out of range. Try again.\")\n",
        "                continue\n",
        "            if game.make_move(position):\n",
        "                game.display_board()\n",
        "                break\n",
        "            game.display_board()\n",
        "        except ValueError:\n",
        "            print(\"Invalid input. Enter a number between 0 and 8.\")\n"
      ],
      "metadata": {
        "colab": {
          "base_uri": "https://localhost:8080/"
        },
        "id": "sfG4hi-YGFBg",
        "outputId": "e4c10b3d-d50f-4bc9-c363-e276817298ba"
      },
      "execution_count": null,
      "outputs": [
        {
          "output_type": "stream",
          "name": "stdout",
          "text": [
            "\n",
            "\n",
            "  |   |  \n",
            "---------\n",
            "  |   |  \n",
            "---------\n",
            "  |   |  \n",
            "\n",
            "\n",
            "Player X, enter your move (0-8): 4\n",
            "\n",
            "\n",
            "  |   |  \n",
            "---------\n",
            "  | X |  \n",
            "---------\n",
            "  |   |  \n",
            "\n",
            "\n",
            "Player O, enter your move (0-8): 3\n",
            "\n",
            "\n",
            "  |   |  \n",
            "---------\n",
            "O | X |  \n",
            "---------\n",
            "  |   |  \n",
            "\n",
            "\n",
            "Player X, enter your move (0-8): 2\n",
            "\n",
            "\n",
            "  |   | X\n",
            "---------\n",
            "O | X |  \n",
            "---------\n",
            "  |   |  \n",
            "\n",
            "\n",
            "Player O, enter your move (0-8): 8\n",
            "\n",
            "\n",
            "  |   | X\n",
            "---------\n",
            "O | X |  \n",
            "---------\n",
            "  |   | O\n",
            "\n",
            "\n",
            "Player X, enter your move (0-8): 6\n",
            "Player X wins!\n",
            "\n",
            "\n",
            "  |   | X\n",
            "---------\n",
            "O | X |  \n",
            "---------\n",
            "X |   | O\n",
            "\n",
            "\n"
          ]
        }
      ]
    },
    {
      "cell_type": "code",
      "source": [],
      "metadata": {
        "id": "R1gCPB5YGFsc"
      },
      "execution_count": null,
      "outputs": []
    }
  ]
}